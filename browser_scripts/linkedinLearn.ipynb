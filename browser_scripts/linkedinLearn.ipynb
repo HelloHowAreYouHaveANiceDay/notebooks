{
 "cells": [
  {
   "cell_type": "code",
   "execution_count": 6,
   "metadata": {},
   "outputs": [],
   "source": [
    "from selenium import webdriver\n",
    "import requests\n",
    "import time\n",
    "from sanitize_filename import sanitize\n",
    "import os\n",
    "import pickle"
   ]
  },
  {
   "cell_type": "code",
   "execution_count": null,
   "metadata": {},
   "outputs": [],
   "source": [
    "def videoLinks(sidebar):\n",
    "    collection = []\n",
    "    # video links are in the side bar\n",
    "    for i, e in enumerate(sidebar):\n",
    "        link = e.find_element_by_tag_name('a').get_attribute('href')\n",
    "        # the title of the video is the title of the class module\n",
    "        name = e.find_element_by_class_name('classroom-toc-item__title').text\n",
    "        # the quiz modules are skipped\n",
    "        if link.find('quiz') > 0:\n",
    "            pass\n",
    "        else:\n",
    "            # the [title, link] is added as list to the collection\n",
    "            collection.append([str(i) + ' - ' + sanitize(name), link])\n",
    "    # the [title, link] pairs are returned for the next step\n",
    "    return collection\n",
    "\n",
    "def downloadAllVideos(driver, link):\n",
    "    driver.get(link)\n",
    "    # get course title\n",
    "    title = driver.find_element_by_tag_name('h1')\n",
    "    title = sanitize(title.text)\n",
    "    # make a directory with the course title if one does not exist yet\n",
    "    if not os.path.isdir(title):\n",
    "        os.mkdir(title)\n",
    "    # get video sidebar\n",
    "    sidebar = driver.find_elements_by_class_name('classroom-toc-item')\n",
    "    \n",
    "    pairs = videoLinks(sidebar)\n",
    "    for p in pairs:\n",
    "        time.sleep(5)\n",
    "        downloadVideo(driver, p, title)\n",
    "    print(title + 'complete')\n",
    "\n",
    "def downloadVideo(driver, pair, folder):\n",
    "    # destructure the variables we need\n",
    "    [name, link] = pair\n",
    "    # go to the video page\n",
    "    driver.get(link)\n",
    "    # wait 5 seconds the for the page to load\n",
    "    # TODO: randomize\n",
    "    time.sleep(5)\n",
    "    # grab the video source\n",
    "    videoFrame = driver.find_element_by_tag_name('video').get_attribute('src')\n",
    "    # the video can be grabbed with a bare request\n",
    "    s = requests.Session()\n",
    "    response = s.get(videoFrame, stream=True)\n",
    "    # 200 = good\n",
    "    if response.status_code == 200:\n",
    "        filename = folder + '/' + name +'.mp4'\n",
    "        with open( filename, 'wb') as f:\n",
    "            f.write(response.content)\n",
    "        print(filename + ' successfully retrieved')\n",
    "        "
   ]
  },
  {
   "cell_type": "markdown",
   "metadata": {},
   "source": [
    "1. start the browser, go to linkedin learn and log into your account"
   ]
  },
  {
   "cell_type": "code",
   "execution_count": 13,
   "metadata": {},
   "outputs": [],
   "source": [
    "driver = webdriver.Chrome()\n",
    "driver.get('https://www.linkedin.com/learning/')"
   ]
  },
  {
   "cell_type": "markdown",
   "metadata": {},
   "source": [
    "1a. save or retrieve cookie from a previous session"
   ]
  },
  {
   "cell_type": "code",
   "execution_count": 14,
   "metadata": {},
   "outputs": [],
   "source": [
    "# save cookie\n",
    "pickle.dump( driver.get_cookies() , open(\"cookies.pkl\",\"wb\"))"
   ]
  },
  {
   "cell_type": "code",
   "execution_count": 12,
   "metadata": {},
   "outputs": [],
   "source": [
    "# retrieve saved cookie\n",
    "cookies = pickle.load(open(\"cookies.pkl\", \"rb\"))\n",
    "for cookie in cookies:\n",
    "    driver.add_cookie(cookie)"
   ]
  },
  {
   "cell_type": "markdown",
   "metadata": {},
   "source": [
    "2. go to the the couse"
   ]
  },
  {
   "cell_type": "code",
   "execution_count": 24,
   "metadata": {},
   "outputs": [],
   "source": [
    "link = 'https://www.linkedin.com/learning/solidworks-sheet-metal-design-2/'"
   ]
  },
  {
   "cell_type": "code",
   "execution_count": 25,
   "metadata": {
    "scrolled": true
   },
   "outputs": [
    {
     "output_type": "stream",
     "name": "stdout",
     "text": [
      "SOLIDWORKS Sheet Metal Design/0 - Getting ahead with sheet metal design in SOLIDWORKS(In progress).mp4 successfully retrieved\n",
      "SOLIDWORKS Sheet Metal Design/1 - Using the exercise files.mp4 successfully retrieved\n",
      "SOLIDWORKS Sheet Metal Design/2 - Looking at the sheet metal tools.mp4 successfully retrieved\n",
      "SOLIDWORKS Sheet Metal Design/3 - Using and customizing the ribbon.mp4 successfully retrieved\n",
      "SOLIDWORKS Sheet Metal Design/4 - Understanding sheet metal.mp4 successfully retrieved\n",
      "SOLIDWORKS Sheet Metal Design/5 - Bonus Laser cutting.mp4 successfully retrieved\n",
      "SOLIDWORKS Sheet Metal Design/6 - Creating a base feature.mp4 successfully retrieved\n",
      "SOLIDWORKS Sheet Metal Design/7 - Looking at the Flange tool.mp4 successfully retrieved\n",
      "SOLIDWORKS Sheet Metal Design/8 - Creating tabs.mp4 successfully retrieved\n",
      "SOLIDWORKS Sheet Metal Design/9 - Making an edge flange.mp4 successfully retrieved\n",
      "SOLIDWORKS Sheet Metal Design/10 - Using the Edit Flange Profile tool.mp4 successfully retrieved\n",
      "SOLIDWORKS Sheet Metal Design/11 - Using the Miter Flange tool.mp4 successfully retrieved\n",
      "SOLIDWORKS Sheet Metal Design/12 - Making a swept flange.mp4 successfully retrieved\n",
      "SOLIDWORKS Sheet Metal Design/13 - Using the Jog feature.mp4 successfully retrieved\n",
      "SOLIDWORKS Sheet Metal Design/14 - Making hems.mp4 successfully retrieved\n",
      "SOLIDWORKS Sheet Metal Design/15 - Bonus CNC turret punch press.mp4 successfully retrieved\n",
      "SOLIDWORKS Sheet Metal Design/16 - Bonus Shearing.mp4 successfully retrieved\n",
      "SOLIDWORKS Sheet Metal Design/17 - Unfolding and folding parts.mp4 successfully retrieved\n",
      "SOLIDWORKS Sheet Metal Design/18 - Making normal cuts in sheet metal.mp4 successfully retrieved\n",
      "SOLIDWORKS Sheet Metal Design/19 - Adding cuts across bends.mp4 successfully retrieved\n",
      "SOLIDWORKS Sheet Metal Design/20 - Making closed corners.mp4 successfully retrieved\n",
      "SOLIDWORKS Sheet Metal Design/21 - Adding welded corners.mp4 successfully retrieved\n",
      "SOLIDWORKS Sheet Metal Design/22 - Making a cross break.mp4 successfully retrieved\n",
      "SOLIDWORKS Sheet Metal Design/23 - Bonus Break forming.mp4 successfully retrieved\n",
      "SOLIDWORKS Sheet Metal Design/24 - Using the Convert to Sheet Metal command.mp4 successfully retrieved\n",
      "SOLIDWORKS Sheet Metal Design/25 - Adding sketched bends.mp4 successfully retrieved\n",
      "SOLIDWORKS Sheet Metal Design/26 - Importing geometry.mp4 successfully retrieved\n",
      "SOLIDWORKS Sheet Metal Design/27 - Looking at the Rip feature.mp4 successfully retrieved\n",
      "SOLIDWORKS Sheet Metal Design/28 - Creating a lofted bend.mp4 successfully retrieved\n",
      "SOLIDWORKS Sheet Metal Design/29 - Bonus Deburring.mp4 successfully retrieved\n",
      "SOLIDWORKS Sheet Metal Design/30 - Building a chassis.mp4 successfully retrieved\n",
      "SOLIDWORKS Sheet Metal Design/31 - Using the pattern tools.mp4 successfully retrieved\n",
      "SOLIDWORKS Sheet Metal Design/32 - Using Mirror Symmetry.mp4 successfully retrieved\n",
      "SOLIDWORKS Sheet Metal Design/33 - Using the Split feature.mp4 successfully retrieved\n",
      "SOLIDWORKS Sheet Metal Design/34 - Exporting individual parts.mp4 successfully retrieved\n",
      "SOLIDWORKS Sheet Metal Design/35 - Bonus Welding.mp4 successfully retrieved\n",
      "SOLIDWORKS Sheet Metal Design/36 - Using forming tools.mp4 successfully retrieved\n",
      "SOLIDWORKS Sheet Metal Design/37 - Modifying a forming tool.mp4 successfully retrieved\n",
      "SOLIDWORKS Sheet Metal Design/38 - Creating a custom forming tool.mp4 successfully retrieved\n",
      "SOLIDWORKS Sheet Metal Design/39 - Forming across a bend.mp4 successfully retrieved\n",
      "SOLIDWORKS Sheet Metal Design/40 - Bonus CNC machining.mp4 successfully retrieved\n",
      "SOLIDWORKS Sheet Metal Design/41 - Basic assembly techniques.mp4 successfully retrieved\n",
      "SOLIDWORKS Sheet Metal Design/42 - Adding cuts in context.mp4 successfully retrieved\n",
      "SOLIDWORKS Sheet Metal Design/43 - Creating parts in the assembly.mp4 successfully retrieved\n",
      "SOLIDWORKS Sheet Metal Design/44 - Using patterns and mirrors.mp4 successfully retrieved\n",
      "SOLIDWORKS Sheet Metal Design/45 - Bonus Hardware.mp4 successfully retrieved\n",
      "SOLIDWORKS Sheet Metal Design/46 - Using ordinate dimensions.mp4 successfully retrieved\n",
      "SOLIDWORKS Sheet Metal Design/47 - Looking at the sheet options.mp4 successfully retrieved\n",
      "SOLIDWORKS Sheet Metal Design/48 - Creating flat patterns.mp4 successfully retrieved\n",
      "SOLIDWORKS Sheet Metal Design/49 - Saving to DXF or DWG.mp4 successfully retrieved\n",
      "SOLIDWORKS Sheet Metal Design/50 - Automation with the SOLIDWORKS Task Scheduler.mp4 successfully retrieved\n",
      "SOLIDWORKS Sheet Metal Design/51 - Preparing for manufacturing.mp4 successfully retrieved\n",
      "SOLIDWORKS Sheet Metal Design/52 - Next steps.mp4 successfully retrieved\n",
      "SOLIDWORKS Sheet Metal Designcomplete\n"
     ]
    }
   ],
   "source": [
    "downloadAllVideos(driver, link)"
   ]
  },
  {
   "cell_type": "code",
   "execution_count": null,
   "metadata": {},
   "outputs": [],
   "source": []
  }
 ],
 "metadata": {
  "kernelspec": {
   "name": "python3",
   "display_name": "Python 3.8.10 64-bit"
  },
  "language_info": {
   "codemirror_mode": {
    "name": "ipython",
    "version": 3
   },
   "file_extension": ".py",
   "mimetype": "text/x-python",
   "name": "python",
   "nbconvert_exporter": "python",
   "pygments_lexer": "ipython3",
   "version": "3.8.10"
  },
  "interpreter": {
   "hash": "082e9a3bcad0a290d0001e938aa60b99250c6c2ef33a923c00b70f9826caf4b7"
  }
 },
 "nbformat": 4,
 "nbformat_minor": 4
}