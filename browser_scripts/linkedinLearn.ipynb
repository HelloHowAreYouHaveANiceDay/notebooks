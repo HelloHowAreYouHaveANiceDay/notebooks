{
 "cells": [
  {
   "cell_type": "code",
   "execution_count": 58,
   "metadata": {},
   "outputs": [],
   "source": [
    "from selenium import webdriver\n",
    "import requests\n",
    "import time\n",
    "from sanitize_filename import sanitize"
   ]
  },
  {
   "cell_type": "code",
   "execution_count": 2,
   "metadata": {},
   "outputs": [],
   "source": [
    "driver = webdriver.Chrome()"
   ]
  },
  {
   "cell_type": "code",
   "execution_count": 3,
   "metadata": {},
   "outputs": [],
   "source": [
    "link = 'https://www.linkedin.com/learning/revit-generative-design/applied-generative-design-for-architecture-and-engineering'"
   ]
  },
  {
   "cell_type": "code",
   "execution_count": 4,
   "metadata": {},
   "outputs": [],
   "source": [
    "driver.get(link)"
   ]
  },
  {
   "cell_type": "code",
   "execution_count": 50,
   "metadata": {},
   "outputs": [],
   "source": [
    "sidebar = driver.find_elements_by_class_name('classroom-toc-item')"
   ]
  },
  {
   "cell_type": "code",
   "execution_count": 62,
   "metadata": {},
   "outputs": [],
   "source": [
    "def videoLinks(sidebar):\n",
    "    collection = []\n",
    "    for i, e in enumerate(sidebar):\n",
    "        link = e.find_element_by_tag_name('a').get_attribute('href')\n",
    "        name = e.find_element_by_class_name('classroom-toc-item__title').text\n",
    "        if link.find('quiz') > 0:\n",
    "            pass\n",
    "        else:\n",
    "            collection.append([str(i) + ' - ' + sanitize(name), link])\n",
    "    return collection"
   ]
  },
  {
   "cell_type": "code",
   "execution_count": 63,
   "metadata": {},
   "outputs": [],
   "source": [
    "links = videoLinks(sidebar)"
   ]
  },
  {
   "cell_type": "code",
   "execution_count": 69,
   "metadata": {},
   "outputs": [],
   "source": [
    "def downloadAllVideos(driver, link):\n",
    "    driver.get(link)\n",
    "    sidebar = driver.find_elements_by_class_name('classroom-toc-item')\n",
    "    pairs = videoLInks(sidebar)\n",
    "    for p in pairs:\n",
    "        time.sleep(5)\n",
    "        downloadVideo(driver, p)"
   ]
  },
  {
   "cell_type": "code",
   "execution_count": 66,
   "metadata": {},
   "outputs": [],
   "source": [
    "def downloadVideo(driver, pair):\n",
    "    [name, link] = pair\n",
    "    driver.get(link)\n",
    "    time.sleep(5)\n",
    "    videoFrame = driver.find_element_by_tag_name('video').get_attribute('src')\n",
    "    s = requests.Session()\n",
    "    response = s.get(videoFrame, stream=True)\n",
    "    print(response.status_code)\n",
    "    with open('ll/' + name +'.mp4', 'wb') as f:\n",
    "        f.write(response.content)"
   ]
  },
  {
   "cell_type": "code",
   "execution_count": 67,
   "metadata": {
    "scrolled": true
   },
   "outputs": [
    {
     "name": "stdout",
     "output_type": "stream",
     "text": [
      "200\n",
      "200\n",
      "200\n",
      "200\n",
      "200\n",
      "200\n",
      "200\n",
      "200\n",
      "200\n",
      "200\n",
      "200\n",
      "200\n",
      "200\n",
      "200\n",
      "200\n",
      "200\n",
      "200\n",
      "200\n",
      "200\n",
      "200\n",
      "200\n",
      "200\n",
      "200\n",
      "200\n"
     ]
    }
   ],
   "source": [
    "downloadAllVideos(driver, links)"
   ]
  },
  {
   "cell_type": "code",
   "execution_count": 30,
   "metadata": {},
   "outputs": [
    {
     "name": "stdout",
     "output_type": "stream",
     "text": [
      "200\n"
     ]
    }
   ],
   "source": []
  },
  {
   "cell_type": "code",
   "execution_count": null,
   "metadata": {},
   "outputs": [],
   "source": []
  }
 ],
 "metadata": {
  "kernelspec": {
   "display_name": "Python 3",
   "language": "python",
   "name": "python3"
  },
  "language_info": {
   "codemirror_mode": {
    "name": "ipython",
    "version": 3
   },
   "file_extension": ".py",
   "mimetype": "text/x-python",
   "name": "python",
   "nbconvert_exporter": "python",
   "pygments_lexer": "ipython3",
   "version": "3.8.5"
  }
 },
 "nbformat": 4,
 "nbformat_minor": 4
}
