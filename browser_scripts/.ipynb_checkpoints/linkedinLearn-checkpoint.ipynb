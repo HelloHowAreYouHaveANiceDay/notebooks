{
 "cells": [
  {
   "cell_type": "code",
   "execution_count": 39,
   "metadata": {},
   "outputs": [],
   "source": [
    "from selenium import webdriver\n",
    "import requests\n",
    "import time"
   ]
  },
  {
   "cell_type": "code",
   "execution_count": 2,
   "metadata": {},
   "outputs": [],
   "source": [
    "driver = webdriver.Chrome()"
   ]
  },
  {
   "cell_type": "code",
   "execution_count": 3,
   "metadata": {},
   "outputs": [],
   "source": [
    "link = 'https://www.linkedin.com/learning/revit-generative-design/applied-generative-design-for-architecture-and-engineering'"
   ]
  },
  {
   "cell_type": "code",
   "execution_count": 4,
   "metadata": {},
   "outputs": [],
   "source": [
    "driver.get(link)"
   ]
  },
  {
   "cell_type": "code",
   "execution_count": 6,
   "metadata": {},
   "outputs": [],
   "source": [
    "sidebar = driver.find_elements_by_class_name('classroom-toc-item')"
   ]
  },
  {
   "cell_type": "code",
   "execution_count": 7,
   "metadata": {},
   "outputs": [
    {
     "data": {
      "text/plain": [
       "[<selenium.webdriver.remote.webelement.WebElement (session=\"7364e70461413f2161a5c19b3eaf3661\", element=\"f1ff0aaa-15fb-41ab-b72c-380b5dcf1239\")>,\n",
       " <selenium.webdriver.remote.webelement.WebElement (session=\"7364e70461413f2161a5c19b3eaf3661\", element=\"84479871-6150-48da-b9e3-15349b464a43\")>,\n",
       " <selenium.webdriver.remote.webelement.WebElement (session=\"7364e70461413f2161a5c19b3eaf3661\", element=\"853ccc4b-0034-4bd7-b41b-e3cb0de790cc\")>,\n",
       " <selenium.webdriver.remote.webelement.WebElement (session=\"7364e70461413f2161a5c19b3eaf3661\", element=\"2904f249-eca0-4f97-a9d1-b47a61677b0c\")>,\n",
       " <selenium.webdriver.remote.webelement.WebElement (session=\"7364e70461413f2161a5c19b3eaf3661\", element=\"ca4b6190-21d4-43a6-b00d-b9ff576c99e2\")>,\n",
       " <selenium.webdriver.remote.webelement.WebElement (session=\"7364e70461413f2161a5c19b3eaf3661\", element=\"a4fd8ab4-1058-410d-8768-3086ded98efe\")>,\n",
       " <selenium.webdriver.remote.webelement.WebElement (session=\"7364e70461413f2161a5c19b3eaf3661\", element=\"3d844693-92d0-47cb-887a-d8a384e390d9\")>,\n",
       " <selenium.webdriver.remote.webelement.WebElement (session=\"7364e70461413f2161a5c19b3eaf3661\", element=\"ac7d6370-33f0-4b66-abf4-7730e973e260\")>,\n",
       " <selenium.webdriver.remote.webelement.WebElement (session=\"7364e70461413f2161a5c19b3eaf3661\", element=\"afceabd8-f09c-42be-a94f-db52216ebc04\")>,\n",
       " <selenium.webdriver.remote.webelement.WebElement (session=\"7364e70461413f2161a5c19b3eaf3661\", element=\"fa5dd407-6b76-46de-bef8-4a771883ba1d\")>,\n",
       " <selenium.webdriver.remote.webelement.WebElement (session=\"7364e70461413f2161a5c19b3eaf3661\", element=\"5a7c45c4-c4ff-44ff-8ddc-6a863b0ae604\")>,\n",
       " <selenium.webdriver.remote.webelement.WebElement (session=\"7364e70461413f2161a5c19b3eaf3661\", element=\"05bf045c-3815-4809-b985-068375f45482\")>,\n",
       " <selenium.webdriver.remote.webelement.WebElement (session=\"7364e70461413f2161a5c19b3eaf3661\", element=\"ab3e97b8-e53b-4ab0-ade9-25b4d1e9aaaa\")>,\n",
       " <selenium.webdriver.remote.webelement.WebElement (session=\"7364e70461413f2161a5c19b3eaf3661\", element=\"5205c957-f1f6-405d-95db-8e1ffb76a391\")>,\n",
       " <selenium.webdriver.remote.webelement.WebElement (session=\"7364e70461413f2161a5c19b3eaf3661\", element=\"79c68cbe-28e3-4a7a-88e6-9d28b36b229e\")>,\n",
       " <selenium.webdriver.remote.webelement.WebElement (session=\"7364e70461413f2161a5c19b3eaf3661\", element=\"342b590d-cdb1-4629-a33b-78e32a1954fd\")>,\n",
       " <selenium.webdriver.remote.webelement.WebElement (session=\"7364e70461413f2161a5c19b3eaf3661\", element=\"a837d736-5551-44b6-a48c-bf823d6b6fce\")>,\n",
       " <selenium.webdriver.remote.webelement.WebElement (session=\"7364e70461413f2161a5c19b3eaf3661\", element=\"0a429141-9d6b-45fc-804c-dcd11517ae58\")>,\n",
       " <selenium.webdriver.remote.webelement.WebElement (session=\"7364e70461413f2161a5c19b3eaf3661\", element=\"1ab9d496-878a-419c-bb74-50dcccf2c7ca\")>,\n",
       " <selenium.webdriver.remote.webelement.WebElement (session=\"7364e70461413f2161a5c19b3eaf3661\", element=\"8fddf2aa-d38f-4311-ac02-cc6c0455bfab\")>,\n",
       " <selenium.webdriver.remote.webelement.WebElement (session=\"7364e70461413f2161a5c19b3eaf3661\", element=\"446a4b97-3471-4cd2-81c6-11e528cbcb63\")>,\n",
       " <selenium.webdriver.remote.webelement.WebElement (session=\"7364e70461413f2161a5c19b3eaf3661\", element=\"371d375f-3f92-4128-9dd5-d5ac68720573\")>,\n",
       " <selenium.webdriver.remote.webelement.WebElement (session=\"7364e70461413f2161a5c19b3eaf3661\", element=\"807f88ce-0463-432f-8994-3312131ebea5\")>,\n",
       " <selenium.webdriver.remote.webelement.WebElement (session=\"7364e70461413f2161a5c19b3eaf3661\", element=\"722785c1-775f-4b5a-8928-2fc2e46fe19a\")>,\n",
       " <selenium.webdriver.remote.webelement.WebElement (session=\"7364e70461413f2161a5c19b3eaf3661\", element=\"a28e13c9-93a5-4016-be90-3bac7f41ccdc\")>,\n",
       " <selenium.webdriver.remote.webelement.WebElement (session=\"7364e70461413f2161a5c19b3eaf3661\", element=\"bdc3e74c-8abb-4bb6-af17-088dd5e8b157\")>,\n",
       " <selenium.webdriver.remote.webelement.WebElement (session=\"7364e70461413f2161a5c19b3eaf3661\", element=\"19a49872-3156-4caf-952d-6a0dae54eafc\")>,\n",
       " <selenium.webdriver.remote.webelement.WebElement (session=\"7364e70461413f2161a5c19b3eaf3661\", element=\"f0c89ca3-6da7-4e67-9f96-45a9134ed27c\")>]"
      ]
     },
     "execution_count": 7,
     "metadata": {},
     "output_type": "execute_result"
    }
   ],
   "source": [
    "sidebar"
   ]
  },
  {
   "cell_type": "code",
   "execution_count": 18,
   "metadata": {},
   "outputs": [
    {
     "data": {
      "text/plain": [
       "'https://www.linkedin.com/learning/revit-generative-design/quiz/urn:li:learningApiAssessment:9821774?resume=false'"
      ]
     },
     "execution_count": 18,
     "metadata": {},
     "output_type": "execute_result"
    }
   ],
   "source": [
    "sidebar[6].find_element_by_tag_name('a').get_attribute('href')"
   ]
  },
  {
   "cell_type": "code",
   "execution_count": 35,
   "metadata": {},
   "outputs": [],
   "source": [
    "def videoLinks(sidebar):\n",
    "    collection = []\n",
    "    for e in sidebar:\n",
    "        link = e.find_element_by_tag_name('a').get_attribute('href')\n",
    "        name = e.find_element_by_class_name('classroom-toc-item__title').text\n",
    "        if link.find('quiz') > 0:\n",
    "            pass\n",
    "        else:\n",
    "            collection.append([name, link])\n",
    "    return collection"
   ]
  },
  {
   "cell_type": "code",
   "execution_count": 36,
   "metadata": {},
   "outputs": [],
   "source": [
    "links = videoLinks(sidebar)"
   ]
  },
  {
   "cell_type": "code",
   "execution_count": 37,
   "metadata": {
    "scrolled": true
   },
   "outputs": [
    {
     "data": {
      "text/plain": [
       "[['Applied generative design for architecture and engineering',\n",
       "  'https://www.linkedin.com/learning/revit-generative-design/applied-generative-design-for-architecture-and-engineering?resume=false'],\n",
       " ['What you should know',\n",
       "  'https://www.linkedin.com/learning/revit-generative-design/what-you-should-know?resume=false'],\n",
       " ['What is generative design?',\n",
       "  'https://www.linkedin.com/learning/revit-generative-design/what-is-generative-design?resume=false'],\n",
       " ['Generative design process',\n",
       "  'https://www.linkedin.com/learning/revit-generative-design/generative-design-process?resume=false'],\n",
       " ['Generative design tools',\n",
       "  'https://www.linkedin.com/learning/revit-generative-design/generative-design-tools?resume=false'],\n",
       " ['Generative design and Revit',\n",
       "  'https://www.linkedin.com/learning/revit-generative-design/generative-design-and-revit?resume=false'],\n",
       " ['What are generative design studies?',\n",
       "  'https://www.linkedin.com/learning/revit-generative-design/what-are-generative-design-studies?resume=false'],\n",
       " ['Generation methods',\n",
       "  'https://www.linkedin.com/learning/revit-generative-design/generation-methods?resume=false'],\n",
       " ['Design criteria',\n",
       "  'https://www.linkedin.com/learning/revit-generative-design/design-criteria?resume=false'],\n",
       " ['Running a study',\n",
       "  'https://www.linkedin.com/learning/revit-generative-design/running-a-study?resume=false'],\n",
       " ['Understanding outcomes',\n",
       "  'https://www.linkedin.com/learning/revit-generative-design/understanding-outcomes?resume=false'],\n",
       " ['Refining the variables',\n",
       "  'https://www.linkedin.com/learning/revit-generative-design/refining-the-variables?resume=false'],\n",
       " ['Generative design in Dynamo',\n",
       "  'https://www.linkedin.com/learning/revit-generative-design/generative-design-in-dynamo?resume=false'],\n",
       " ['Inputs and outputs',\n",
       "  'https://www.linkedin.com/learning/revit-generative-design/inputs-and-outputs?resume=false'],\n",
       " ['Data.Remember node',\n",
       "  'https://www.linkedin.com/learning/revit-generative-design/data-remember-node?resume=false'],\n",
       " ['Data.Gate node',\n",
       "  'https://www.linkedin.com/learning/revit-generative-design/data-gate-node?resume=false'],\n",
       " ['A sample study',\n",
       "  'https://www.linkedin.com/learning/revit-generative-design/a-sample-study?resume=false'],\n",
       " ['Inputs',\n",
       "  'https://www.linkedin.com/learning/revit-generative-design/inputs?resume=false'],\n",
       " ['The generators',\n",
       "  'https://www.linkedin.com/learning/revit-generative-design/the-generators?resume=false'],\n",
       " ['The evaluator',\n",
       "  'https://www.linkedin.com/learning/revit-generative-design/the-evaluator?resume=false'],\n",
       " ['The outputs',\n",
       "  'https://www.linkedin.com/learning/revit-generative-design/the-outputs?resume=false'],\n",
       " ['Exporting studies',\n",
       "  'https://www.linkedin.com/learning/revit-generative-design/exporting-studies?resume=false'],\n",
       " ['Testing in Revit',\n",
       "  'https://www.linkedin.com/learning/revit-generative-design/testing-in-revit?resume=false'],\n",
       " ['Next steps',\n",
       "  'https://www.linkedin.com/learning/revit-generative-design/next-steps?resume=false']]"
      ]
     },
     "execution_count": 37,
     "metadata": {},
     "output_type": "execute_result"
    }
   ],
   "source": [
    "links"
   ]
  },
  {
   "cell_type": "code",
   "execution_count": 38,
   "metadata": {},
   "outputs": [],
   "source": [
    "def downloadAllVideos(driver, pairs):\n",
    "    for p in pairs:\n",
    "        time.sleep(5)\n",
    "        "
   ]
  },
  {
   "cell_type": "code",
   "execution_count": 42,
   "metadata": {},
   "outputs": [
    {
     "ename": "SyntaxError",
     "evalue": "invalid syntax (<ipython-input-42-bd80906d0ade>, line 1)",
     "output_type": "error",
     "traceback": [
      "\u001b[1;36m  File \u001b[1;32m\"<ipython-input-42-bd80906d0ade>\"\u001b[1;36m, line \u001b[1;32m1\u001b[0m\n\u001b[1;33m    def downloadVideo(driver, (name, link)):\u001b[0m\n\u001b[1;37m                              ^\u001b[0m\n\u001b[1;31mSyntaxError\u001b[0m\u001b[1;31m:\u001b[0m invalid syntax\n"
     ]
    }
   ],
   "source": [
    "def downloadVideo(driver, pair):\n",
    "    [name, link] = pair\n",
    "    driver.get(link)\n",
    "    time.sleep(5)\n",
    "    videoFrame = driver.find_element_by_tag_name('video').get_attribute('src')\n",
    "    s = requests.Session()\n",
    "    response = s.get(videoFrame, stream=True)\n",
    "    print(response.status_code)\n",
    "    with open('ll/' + name +'.mp4', 'wb') as f:\n",
    "        f.write(response.content)"
   ]
  },
  {
   "cell_type": "code",
   "execution_count": 35,
   "metadata": {},
   "outputs": [],
   "source": []
  },
  {
   "cell_type": "code",
   "execution_count": 30,
   "metadata": {},
   "outputs": [
    {
     "name": "stdout",
     "output_type": "stream",
     "text": [
      "200\n"
     ]
    }
   ],
   "source": []
  },
  {
   "cell_type": "code",
   "execution_count": null,
   "metadata": {},
   "outputs": [],
   "source": []
  }
 ],
 "metadata": {
  "kernelspec": {
   "display_name": "Python 3",
   "language": "python",
   "name": "python3"
  },
  "language_info": {
   "codemirror_mode": {
    "name": "ipython",
    "version": 3
   },
   "file_extension": ".py",
   "mimetype": "text/x-python",
   "name": "python",
   "nbconvert_exporter": "python",
   "pygments_lexer": "ipython3",
   "version": "3.8.5"
  }
 },
 "nbformat": 4,
 "nbformat_minor": 4
}
