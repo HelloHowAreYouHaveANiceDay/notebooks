{
 "cells": [
  {
   "cell_type": "code",
   "execution_count": 29,
   "metadata": {},
   "outputs": [],
   "source": [
    "from selenium import webdriver\n",
    "import requests"
   ]
  },
  {
   "cell_type": "code",
   "execution_count": 2,
   "metadata": {},
   "outputs": [],
   "source": [
    "driver = webdriver.Chrome()"
   ]
  },
  {
   "cell_type": "code",
   "execution_count": 5,
   "metadata": {},
   "outputs": [],
   "source": [
    "link = 'https://www.linkedin.com/learning/revit-generative-design/applied-generative-design-for-architecture-and-engineering'"
   ]
  },
  {
   "cell_type": "code",
   "execution_count": 31,
   "metadata": {},
   "outputs": [],
   "source": [
    "driver.get(link)"
   ]
  },
  {
   "cell_type": "code",
   "execution_count": 32,
   "metadata": {},
   "outputs": [],
   "source": [
    "sidebar = driver.find_elements_by_class_name('classroom-toc-item')"
   ]
  },
  {
   "cell_type": "code",
   "execution_count": 33,
   "metadata": {},
   "outputs": [
    {
     "data": {
      "text/plain": [
       "[<selenium.webdriver.remote.webelement.WebElement (session=\"01231f51f88f79a07e8b06bd209f0bcc\", element=\"d5482d64-27f2-40f9-9696-0f5495ee5d54\")>,\n",
       " <selenium.webdriver.remote.webelement.WebElement (session=\"01231f51f88f79a07e8b06bd209f0bcc\", element=\"8e0329b7-5f02-41be-964f-99771971346d\")>,\n",
       " <selenium.webdriver.remote.webelement.WebElement (session=\"01231f51f88f79a07e8b06bd209f0bcc\", element=\"d5fd7ca7-6d45-4b70-ba33-72467fca7989\")>,\n",
       " <selenium.webdriver.remote.webelement.WebElement (session=\"01231f51f88f79a07e8b06bd209f0bcc\", element=\"79dda806-fd5a-42ad-9567-99205f668db6\")>,\n",
       " <selenium.webdriver.remote.webelement.WebElement (session=\"01231f51f88f79a07e8b06bd209f0bcc\", element=\"044af6ae-d249-448d-a20f-efe33ddccff2\")>,\n",
       " <selenium.webdriver.remote.webelement.WebElement (session=\"01231f51f88f79a07e8b06bd209f0bcc\", element=\"4ed1cb22-1e92-451e-bce7-c850e2f7092d\")>,\n",
       " <selenium.webdriver.remote.webelement.WebElement (session=\"01231f51f88f79a07e8b06bd209f0bcc\", element=\"40b917f7-ea6c-4bf9-a44a-b1261d003cee\")>,\n",
       " <selenium.webdriver.remote.webelement.WebElement (session=\"01231f51f88f79a07e8b06bd209f0bcc\", element=\"5e447c49-6294-4928-bc6d-73d794bc652a\")>,\n",
       " <selenium.webdriver.remote.webelement.WebElement (session=\"01231f51f88f79a07e8b06bd209f0bcc\", element=\"0ae1d22b-4a5a-4196-a524-42965f7bbcd4\")>,\n",
       " <selenium.webdriver.remote.webelement.WebElement (session=\"01231f51f88f79a07e8b06bd209f0bcc\", element=\"15fdca1e-afa6-417e-8fdb-fbc5ec074a43\")>,\n",
       " <selenium.webdriver.remote.webelement.WebElement (session=\"01231f51f88f79a07e8b06bd209f0bcc\", element=\"097d05b9-2e4e-4675-aa9f-da8c6e96b133\")>,\n",
       " <selenium.webdriver.remote.webelement.WebElement (session=\"01231f51f88f79a07e8b06bd209f0bcc\", element=\"22defd21-73b6-4948-ac07-c63e873a5fc7\")>,\n",
       " <selenium.webdriver.remote.webelement.WebElement (session=\"01231f51f88f79a07e8b06bd209f0bcc\", element=\"46e10ab9-7de0-4677-ab40-25134280ddd1\")>,\n",
       " <selenium.webdriver.remote.webelement.WebElement (session=\"01231f51f88f79a07e8b06bd209f0bcc\", element=\"22a67517-f267-45a2-9872-0f508b92b2f9\")>,\n",
       " <selenium.webdriver.remote.webelement.WebElement (session=\"01231f51f88f79a07e8b06bd209f0bcc\", element=\"12292220-5d1c-4c6c-8d76-7d9f4d969232\")>,\n",
       " <selenium.webdriver.remote.webelement.WebElement (session=\"01231f51f88f79a07e8b06bd209f0bcc\", element=\"848f7be0-c473-4f66-a2e8-636984a6efdd\")>,\n",
       " <selenium.webdriver.remote.webelement.WebElement (session=\"01231f51f88f79a07e8b06bd209f0bcc\", element=\"d1d9f406-ef6c-4951-b774-844e8d895a2b\")>,\n",
       " <selenium.webdriver.remote.webelement.WebElement (session=\"01231f51f88f79a07e8b06bd209f0bcc\", element=\"dea12272-43f5-4167-a1c6-0cf3e8ebc2ee\")>,\n",
       " <selenium.webdriver.remote.webelement.WebElement (session=\"01231f51f88f79a07e8b06bd209f0bcc\", element=\"c8fa6225-4505-4d43-80c3-86dddf8f0bbd\")>,\n",
       " <selenium.webdriver.remote.webelement.WebElement (session=\"01231f51f88f79a07e8b06bd209f0bcc\", element=\"21890cdb-d740-40e9-90d8-de04834f1bfb\")>,\n",
       " <selenium.webdriver.remote.webelement.WebElement (session=\"01231f51f88f79a07e8b06bd209f0bcc\", element=\"b2cb3d01-f365-43d7-977f-2e51f48d5e34\")>,\n",
       " <selenium.webdriver.remote.webelement.WebElement (session=\"01231f51f88f79a07e8b06bd209f0bcc\", element=\"2b742658-a473-415f-8e2f-b888ab117f70\")>,\n",
       " <selenium.webdriver.remote.webelement.WebElement (session=\"01231f51f88f79a07e8b06bd209f0bcc\", element=\"ffd90ae9-47f8-42d2-afe9-546ebbf5f852\")>,\n",
       " <selenium.webdriver.remote.webelement.WebElement (session=\"01231f51f88f79a07e8b06bd209f0bcc\", element=\"917781c8-6e07-43a6-8101-1562136db98c\")>,\n",
       " <selenium.webdriver.remote.webelement.WebElement (session=\"01231f51f88f79a07e8b06bd209f0bcc\", element=\"0019d0a0-be79-4fe5-8d14-9efe0e00b593\")>,\n",
       " <selenium.webdriver.remote.webelement.WebElement (session=\"01231f51f88f79a07e8b06bd209f0bcc\", element=\"2c72a002-82fa-4552-b221-6c18591219d0\")>,\n",
       " <selenium.webdriver.remote.webelement.WebElement (session=\"01231f51f88f79a07e8b06bd209f0bcc\", element=\"1e1bad20-cf8b-42b6-97bf-da4b13bfcc10\")>,\n",
       " <selenium.webdriver.remote.webelement.WebElement (session=\"01231f51f88f79a07e8b06bd209f0bcc\", element=\"292216d0-9882-4027-9a38-cb39d2a759dd\")>]"
      ]
     },
     "execution_count": 33,
     "metadata": {},
     "output_type": "execute_result"
    }
   ],
   "source": [
    "sidebar"
   ]
  },
  {
   "cell_type": "code",
   "execution_count": 18,
   "metadata": {},
   "outputs": [
    {
     "data": {
      "text/plain": [
       "'https://www.linkedin.com/learning/revit-generative-design/quiz/urn:li:learningApiAssessment:9821774?resume=false'"
      ]
     },
     "execution_count": 18,
     "metadata": {},
     "output_type": "execute_result"
    }
   ],
   "source": [
    "sidebar[6].find_element_by_tag_name('a').get_attribute('href')"
   ]
  },
  {
   "cell_type": "code",
   "execution_count": 34,
   "metadata": {},
   "outputs": [],
   "source": [
    "videoFrame = driver.find_element_by_tag_name('video').get_attribute('src')"
   ]
  },
  {
   "cell_type": "code",
   "execution_count": 35,
   "metadata": {},
   "outputs": [],
   "source": [
    "driver.get(videoFrame)"
   ]
  },
  {
   "cell_type": "code",
   "execution_count": 25,
   "metadata": {},
   "outputs": [
    {
     "ename": "TypeError",
     "evalue": "a bytes-like object is required, not 'str'",
     "output_type": "error",
     "traceback": [
      "\u001b[1;31m---------------------------------------------------------------------------\u001b[0m",
      "\u001b[1;31mTypeError\u001b[0m                                 Traceback (most recent call last)",
      "\u001b[1;32m<ipython-input-25-0ed850cde873>\u001b[0m in \u001b[0;36m<module>\u001b[1;34m\u001b[0m\n\u001b[0;32m      1\u001b[0m \u001b[1;32mwith\u001b[0m \u001b[0mopen\u001b[0m\u001b[1;33m(\u001b[0m\u001b[1;34m'file.mp4'\u001b[0m\u001b[1;33m,\u001b[0m \u001b[1;34m'wb'\u001b[0m\u001b[1;33m)\u001b[0m \u001b[1;32mas\u001b[0m \u001b[0mf\u001b[0m\u001b[1;33m:\u001b[0m   \u001b[1;31m# open file 'file.mp4' as write bytes file\u001b[0m\u001b[1;33m\u001b[0m\u001b[1;33m\u001b[0m\u001b[0m\n\u001b[1;32m----> 2\u001b[1;33m     \u001b[0mf\u001b[0m\u001b[1;33m.\u001b[0m\u001b[0mwrite\u001b[0m\u001b[1;33m(\u001b[0m\u001b[0mdriver\u001b[0m\u001b[1;33m.\u001b[0m\u001b[0mpage_source\u001b[0m\u001b[1;33m)\u001b[0m\u001b[1;33m\u001b[0m\u001b[1;33m\u001b[0m\u001b[0m\n\u001b[0m",
      "\u001b[1;31mTypeError\u001b[0m: a bytes-like object is required, not 'str'"
     ]
    }
   ],
   "source": [
    "with open('file.mp4', 'wb') as f:   # open file 'file.mp4' as write bytes file\n",
    "    f.write(driver.page_source)"
   ]
  },
  {
   "cell_type": "code",
   "execution_count": 26,
   "metadata": {},
   "outputs": [
    {
     "data": {
      "text/plain": [
       "['__class__',\n",
       " '__delattr__',\n",
       " '__dict__',\n",
       " '__dir__',\n",
       " '__doc__',\n",
       " '__enter__',\n",
       " '__eq__',\n",
       " '__exit__',\n",
       " '__format__',\n",
       " '__ge__',\n",
       " '__getattribute__',\n",
       " '__gt__',\n",
       " '__hash__',\n",
       " '__init__',\n",
       " '__init_subclass__',\n",
       " '__le__',\n",
       " '__lt__',\n",
       " '__module__',\n",
       " '__ne__',\n",
       " '__new__',\n",
       " '__reduce__',\n",
       " '__reduce_ex__',\n",
       " '__repr__',\n",
       " '__setattr__',\n",
       " '__sizeof__',\n",
       " '__str__',\n",
       " '__subclasshook__',\n",
       " '__weakref__',\n",
       " '_file_detector',\n",
       " '_is_remote',\n",
       " '_mobile',\n",
       " '_switch_to',\n",
       " '_unwrap_value',\n",
       " '_web_element_cls',\n",
       " '_wrap_value',\n",
       " 'add_cookie',\n",
       " 'application_cache',\n",
       " 'back',\n",
       " 'capabilities',\n",
       " 'close',\n",
       " 'command_executor',\n",
       " 'create_options',\n",
       " 'create_web_element',\n",
       " 'current_url',\n",
       " 'current_window_handle',\n",
       " 'delete_all_cookies',\n",
       " 'delete_cookie',\n",
       " 'desired_capabilities',\n",
       " 'error_handler',\n",
       " 'execute',\n",
       " 'execute_async_script',\n",
       " 'execute_cdp_cmd',\n",
       " 'execute_script',\n",
       " 'file_detector',\n",
       " 'file_detector_context',\n",
       " 'find_element',\n",
       " 'find_element_by_class_name',\n",
       " 'find_element_by_css_selector',\n",
       " 'find_element_by_id',\n",
       " 'find_element_by_link_text',\n",
       " 'find_element_by_name',\n",
       " 'find_element_by_partial_link_text',\n",
       " 'find_element_by_tag_name',\n",
       " 'find_element_by_xpath',\n",
       " 'find_elements',\n",
       " 'find_elements_by_class_name',\n",
       " 'find_elements_by_css_selector',\n",
       " 'find_elements_by_id',\n",
       " 'find_elements_by_link_text',\n",
       " 'find_elements_by_name',\n",
       " 'find_elements_by_partial_link_text',\n",
       " 'find_elements_by_tag_name',\n",
       " 'find_elements_by_xpath',\n",
       " 'forward',\n",
       " 'fullscreen_window',\n",
       " 'get',\n",
       " 'get_cookie',\n",
       " 'get_cookies',\n",
       " 'get_log',\n",
       " 'get_network_conditions',\n",
       " 'get_screenshot_as_base64',\n",
       " 'get_screenshot_as_file',\n",
       " 'get_screenshot_as_png',\n",
       " 'get_window_position',\n",
       " 'get_window_rect',\n",
       " 'get_window_size',\n",
       " 'implicitly_wait',\n",
       " 'launch_app',\n",
       " 'log_types',\n",
       " 'maximize_window',\n",
       " 'minimize_window',\n",
       " 'mobile',\n",
       " 'name',\n",
       " 'orientation',\n",
       " 'page_source',\n",
       " 'quit',\n",
       " 'refresh',\n",
       " 'save_screenshot',\n",
       " 'service',\n",
       " 'session_id',\n",
       " 'set_network_conditions',\n",
       " 'set_page_load_timeout',\n",
       " 'set_script_timeout',\n",
       " 'set_window_position',\n",
       " 'set_window_rect',\n",
       " 'set_window_size',\n",
       " 'start_client',\n",
       " 'start_session',\n",
       " 'stop_client',\n",
       " 'switch_to',\n",
       " 'switch_to_active_element',\n",
       " 'switch_to_alert',\n",
       " 'switch_to_default_content',\n",
       " 'switch_to_frame',\n",
       " 'switch_to_window',\n",
       " 'title',\n",
       " 'w3c',\n",
       " 'window_handles']"
      ]
     },
     "execution_count": 26,
     "metadata": {},
     "output_type": "execute_result"
    }
   ],
   "source": [
    "dir(driver)"
   ]
  },
  {
   "cell_type": "code",
   "execution_count": 30,
   "metadata": {},
   "outputs": [
    {
     "name": "stdout",
     "output_type": "stream",
     "text": [
      "200\n"
     ]
    }
   ],
   "source": [
    "s = requests.Session()\n",
    "response = s.get(videoFrame, stream=True)\n",
    "print(response.status_code)\n",
    "with open('file.mp4', 'wb') as f:\n",
    "    f.write(response.content)"
   ]
  },
  {
   "cell_type": "code",
   "execution_count": null,
   "metadata": {},
   "outputs": [],
   "source": []
  }
 ],
 "metadata": {
  "kernelspec": {
   "display_name": "Python 3",
   "language": "python",
   "name": "python3"
  },
  "language_info": {
   "codemirror_mode": {
    "name": "ipython",
    "version": 3
   },
   "file_extension": ".py",
   "mimetype": "text/x-python",
   "name": "python",
   "nbconvert_exporter": "python",
   "pygments_lexer": "ipython3",
   "version": "3.8.5"
  }
 },
 "nbformat": 4,
 "nbformat_minor": 4
}
