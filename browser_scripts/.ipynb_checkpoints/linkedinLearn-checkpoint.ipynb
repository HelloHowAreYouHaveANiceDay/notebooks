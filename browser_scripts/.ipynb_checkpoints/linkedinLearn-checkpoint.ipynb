{
 "cells": [
  {
   "cell_type": "code",
   "execution_count": 5,
   "metadata": {},
   "outputs": [],
   "source": [
    "from selenium import webdriver\n",
    "import requests\n",
    "import time\n",
    "from sanitize_filename import sanitize\n",
    "import os\n",
    "import pickle"
   ]
  },
  {
   "cell_type": "markdown",
   "metadata": {},
   "source": [
    "1. start the browser, go to linkedin learn and log into your account"
   ]
  },
  {
   "cell_type": "code",
   "execution_count": 8,
   "metadata": {},
   "outputs": [],
   "source": [
    "driver = webdriver.Chrome()\n",
    "driver.get('https://www.linkedin.com/learning/')"
   ]
  },
  {
   "cell_type": "markdown",
   "metadata": {},
   "source": [
    "1a. save or retrieve cookie from a previous session"
   ]
  },
  {
   "cell_type": "code",
   "execution_count": 6,
   "metadata": {},
   "outputs": [],
   "source": [
    "# save cookie\n",
    "pickle.dump( driver.get_cookies() , open(\"cookies.pkl\",\"wb\"))"
   ]
  },
  {
   "cell_type": "code",
   "execution_count": 12,
   "metadata": {},
   "outputs": [],
   "source": [
    "# retrieve saved cookie\n",
    "cookies = pickle.load(open(\"cookies.pkl\", \"rb\"))\n",
    "for cookie in cookies:\n",
    "    driver.add_cookie(cookie)"
   ]
  },
  {
   "cell_type": "markdown",
   "metadata": {},
   "source": [
    "2. go to the the couse"
   ]
  },
  {
   "cell_type": "code",
   "execution_count": 40,
   "metadata": {},
   "outputs": [],
   "source": [
    "link = 'https://www.linkedin.com/learning/bim-vdc-for-construction'"
   ]
  },
  {
   "cell_type": "code",
   "execution_count": 44,
   "metadata": {
    "scrolled": true
   },
   "outputs": [
    {
     "name": "stdout",
     "output_type": "stream",
     "text": [
      "BIM-VDC for Construction/0 - Bringing a project to life with VDC.mp4 successfully retrieved\n",
      "BIM-VDC for Construction/1 - Winning your proposals.mp4 successfully retrieved\n",
      "BIM-VDC for Construction/2 - Preconstruction.mp4 successfully retrieved\n",
      "BIM-VDC for Construction/3 - Standard documentation.mp4 successfully retrieved\n",
      "BIM-VDC for Construction/4 - Software and hardware.mp4 successfully retrieved\n",
      "BIM-VDC for Construction/5 - Level of Development (LOD).mp4 successfully retrieved\n",
      "BIM-VDC for Construction/6 - Authoring content.mp4 successfully retrieved\n",
      "BIM-VDC for Construction/7 - Establishing BIM Plan and requirements.mp4 successfully retrieved\n",
      "BIM-VDC for Construction/8 - BIM kickoff.mp4 successfully retrieved\n",
      "BIM-VDC for Construction/9 - Coordinating models.mp4 successfully retrieved\n",
      "BIM-VDC for Construction/10 - Bidding and negotiation.mp4 successfully retrieved\n",
      "BIM-VDC for Construction/11 - 4D modeling.mp4 successfully retrieved\n",
      "BIM-VDC for Construction/12 - Safety and risk assessment.mp4 successfully retrieved\n",
      "BIM-VDC for Construction/13 - Internal team coordination.mp4 successfully retrieved\n",
      "BIM-VDC for Construction/14 - Construction.mp4 successfully retrieved\n",
      "BIM-VDC for Construction/15 - Document management.mp4 successfully retrieved\n",
      "BIM-VDC for Construction/16 - Error resolution.mp4 successfully retrieved\n",
      "BIM-VDC for Construction/17 - Laser scanning.mp4 successfully retrieved\n",
      "BIM-VDC for Construction/18 - UAV and reality capture.mp4 successfully retrieved\n",
      "BIM-VDC for Construction/19 - Virtual reality and Mixed reality.mp4 successfully retrieved\n",
      "BIM-VDC for Construction/20 - Facility management, post-occupancy evaluation.mp4 successfully retrieved\n",
      "BIM-VDC for Construction/21 - Next steps.mp4 successfully retrieved\n"
     ]
    }
   ],
   "source": [
    "downloadAllVideos(driver, link)"
   ]
  },
  {
   "cell_type": "code",
   "execution_count": 41,
   "metadata": {},
   "outputs": [],
   "source": [
    "def videoLinks(sidebar):\n",
    "    collection = []\n",
    "    # video links are in the side bar\n",
    "    for i, e in enumerate(sidebar):\n",
    "        link = e.find_element_by_tag_name('a').get_attribute('href')\n",
    "        # the title of the video is the title of the class module\n",
    "        name = e.find_element_by_class_name('classroom-toc-item__title').text\n",
    "        # the quiz modules are skipped\n",
    "        if link.find('quiz') > 0:\n",
    "            pass\n",
    "        else:\n",
    "            # the [title, link] is added as list to the collection\n",
    "            collection.append([str(i) + ' - ' + sanitize(name), link])\n",
    "    # the [title, link] pairs are returned for the next step\n",
    "    return collection"
   ]
  },
  {
   "cell_type": "code",
   "execution_count": 45,
   "metadata": {},
   "outputs": [],
   "source": [
    "def downloadAllVideos(driver, link):\n",
    "    driver.get(link)\n",
    "    # get course title\n",
    "    title = driver.find_element_by_tag_name('h1')\n",
    "    title = sanitize(title.text)\n",
    "    # make a directory with the course title if one does not exist yet\n",
    "    if not os.path.isdir(title):\n",
    "        os.mkdir(title)\n",
    "    # get video sidebar\n",
    "    sidebar = driver.find_elements_by_class_name('classroom-toc-item')\n",
    "    \n",
    "    pairs = videoLinks(sidebar)\n",
    "    for p in pairs:\n",
    "        time.sleep(5)\n",
    "        downloadVideo(driver, p, title)\n",
    "    print(title + 'complete')"
   ]
  },
  {
   "cell_type": "code",
   "execution_count": 43,
   "metadata": {},
   "outputs": [],
   "source": [
    "def downloadVideo(driver, pair, folder):\n",
    "    # destructure the variables we need\n",
    "    [name, link] = pair\n",
    "    # go to the video page\n",
    "    driver.get(link)\n",
    "    # wait 5 seconds the for the page to load\n",
    "    # TODO: randomize\n",
    "    time.sleep(5)\n",
    "    # grab the video source\n",
    "    videoFrame = driver.find_element_by_tag_name('video').get_attribute('src')\n",
    "    # the video can be grabbed with a bare request\n",
    "    s = requests.Session()\n",
    "    response = s.get(videoFrame, stream=True)\n",
    "    # 200 = good\n",
    "    if response.status_code == 200:\n",
    "        filename = folder + '/' + name +'.mp4'\n",
    "        with open( filename, 'wb') as f:\n",
    "            f.write(response.content)\n",
    "        print(filename + ' successfully retrieved')\n",
    "        "
   ]
  },
  {
   "cell_type": "code",
   "execution_count": null,
   "metadata": {},
   "outputs": [],
   "source": []
  }
 ],
 "metadata": {
  "kernelspec": {
   "display_name": "Python 3",
   "language": "python",
   "name": "python3"
  },
  "language_info": {
   "codemirror_mode": {
    "name": "ipython",
    "version": 3
   },
   "file_extension": ".py",
   "mimetype": "text/x-python",
   "name": "python",
   "nbconvert_exporter": "python",
   "pygments_lexer": "ipython3",
   "version": "3.8.5"
  }
 },
 "nbformat": 4,
 "nbformat_minor": 4
}
